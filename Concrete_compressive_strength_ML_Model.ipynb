{
 "cells": [
  {
   "cell_type": "markdown",
   "id": "7057e430",
   "metadata": {},
   "source": [
    "Importing local dependencies"
   ]
  },
  {
   "cell_type": "code",
   "execution_count": 1,
   "id": "033d92c8",
   "metadata": {},
   "outputs": [],
   "source": [
    "import numpy as np\n",
    "import pandas as pd\n",
    "import seaborn as sns\n",
    "import matplotlib.pyplot as plt\n",
    "from sklearn import metrics\n",
    "from xgboost import XGBRegressor\n",
    "from sklearn.model_selection import train_test_split"
   ]
  },
  {
   "cell_type": "code",
   "execution_count": 2,
   "id": "86a1b7de",
   "metadata": {},
   "outputs": [],
   "source": [
    "concrete_dataset=pd.read_csv(\"concrete_data.csv\")"
   ]
  },
  {
   "cell_type": "code",
   "execution_count": 3,
   "id": "9a161a13",
   "metadata": {},
   "outputs": [
    {
     "data": {
      "text/html": [
       "<div>\n",
       "<style scoped>\n",
       "    .dataframe tbody tr th:only-of-type {\n",
       "        vertical-align: middle;\n",
       "    }\n",
       "\n",
       "    .dataframe tbody tr th {\n",
       "        vertical-align: top;\n",
       "    }\n",
       "\n",
       "    .dataframe thead th {\n",
       "        text-align: right;\n",
       "    }\n",
       "</style>\n",
       "<table border=\"1\" class=\"dataframe\">\n",
       "  <thead>\n",
       "    <tr style=\"text-align: right;\">\n",
       "      <th></th>\n",
       "      <th>cement</th>\n",
       "      <th>blast_furnace_slag</th>\n",
       "      <th>fly_ash</th>\n",
       "      <th>water</th>\n",
       "      <th>superplasticizer</th>\n",
       "      <th>coarse_aggregate</th>\n",
       "      <th>fine_aggregate</th>\n",
       "      <th>age</th>\n",
       "      <th>concrete_compressive_strength</th>\n",
       "    </tr>\n",
       "  </thead>\n",
       "  <tbody>\n",
       "    <tr>\n",
       "      <th>0</th>\n",
       "      <td>540.0</td>\n",
       "      <td>0.0</td>\n",
       "      <td>0.0</td>\n",
       "      <td>162.0</td>\n",
       "      <td>2.5</td>\n",
       "      <td>1040.0</td>\n",
       "      <td>676.0</td>\n",
       "      <td>28</td>\n",
       "      <td>79.99</td>\n",
       "    </tr>\n",
       "    <tr>\n",
       "      <th>1</th>\n",
       "      <td>540.0</td>\n",
       "      <td>0.0</td>\n",
       "      <td>0.0</td>\n",
       "      <td>162.0</td>\n",
       "      <td>2.5</td>\n",
       "      <td>1055.0</td>\n",
       "      <td>676.0</td>\n",
       "      <td>28</td>\n",
       "      <td>61.89</td>\n",
       "    </tr>\n",
       "    <tr>\n",
       "      <th>2</th>\n",
       "      <td>332.5</td>\n",
       "      <td>142.5</td>\n",
       "      <td>0.0</td>\n",
       "      <td>228.0</td>\n",
       "      <td>0.0</td>\n",
       "      <td>932.0</td>\n",
       "      <td>594.0</td>\n",
       "      <td>270</td>\n",
       "      <td>40.27</td>\n",
       "    </tr>\n",
       "    <tr>\n",
       "      <th>3</th>\n",
       "      <td>332.5</td>\n",
       "      <td>142.5</td>\n",
       "      <td>0.0</td>\n",
       "      <td>228.0</td>\n",
       "      <td>0.0</td>\n",
       "      <td>932.0</td>\n",
       "      <td>594.0</td>\n",
       "      <td>365</td>\n",
       "      <td>41.05</td>\n",
       "    </tr>\n",
       "    <tr>\n",
       "      <th>4</th>\n",
       "      <td>198.6</td>\n",
       "      <td>132.4</td>\n",
       "      <td>0.0</td>\n",
       "      <td>192.0</td>\n",
       "      <td>0.0</td>\n",
       "      <td>978.4</td>\n",
       "      <td>825.5</td>\n",
       "      <td>360</td>\n",
       "      <td>44.30</td>\n",
       "    </tr>\n",
       "    <tr>\n",
       "      <th>...</th>\n",
       "      <td>...</td>\n",
       "      <td>...</td>\n",
       "      <td>...</td>\n",
       "      <td>...</td>\n",
       "      <td>...</td>\n",
       "      <td>...</td>\n",
       "      <td>...</td>\n",
       "      <td>...</td>\n",
       "      <td>...</td>\n",
       "    </tr>\n",
       "    <tr>\n",
       "      <th>1025</th>\n",
       "      <td>276.4</td>\n",
       "      <td>116.0</td>\n",
       "      <td>90.3</td>\n",
       "      <td>179.6</td>\n",
       "      <td>8.9</td>\n",
       "      <td>870.1</td>\n",
       "      <td>768.3</td>\n",
       "      <td>28</td>\n",
       "      <td>44.28</td>\n",
       "    </tr>\n",
       "    <tr>\n",
       "      <th>1026</th>\n",
       "      <td>322.2</td>\n",
       "      <td>0.0</td>\n",
       "      <td>115.6</td>\n",
       "      <td>196.0</td>\n",
       "      <td>10.4</td>\n",
       "      <td>817.9</td>\n",
       "      <td>813.4</td>\n",
       "      <td>28</td>\n",
       "      <td>31.18</td>\n",
       "    </tr>\n",
       "    <tr>\n",
       "      <th>1027</th>\n",
       "      <td>148.5</td>\n",
       "      <td>139.4</td>\n",
       "      <td>108.6</td>\n",
       "      <td>192.7</td>\n",
       "      <td>6.1</td>\n",
       "      <td>892.4</td>\n",
       "      <td>780.0</td>\n",
       "      <td>28</td>\n",
       "      <td>23.70</td>\n",
       "    </tr>\n",
       "    <tr>\n",
       "      <th>1028</th>\n",
       "      <td>159.1</td>\n",
       "      <td>186.7</td>\n",
       "      <td>0.0</td>\n",
       "      <td>175.6</td>\n",
       "      <td>11.3</td>\n",
       "      <td>989.6</td>\n",
       "      <td>788.9</td>\n",
       "      <td>28</td>\n",
       "      <td>32.77</td>\n",
       "    </tr>\n",
       "    <tr>\n",
       "      <th>1029</th>\n",
       "      <td>260.9</td>\n",
       "      <td>100.5</td>\n",
       "      <td>78.3</td>\n",
       "      <td>200.6</td>\n",
       "      <td>8.6</td>\n",
       "      <td>864.5</td>\n",
       "      <td>761.5</td>\n",
       "      <td>28</td>\n",
       "      <td>32.40</td>\n",
       "    </tr>\n",
       "  </tbody>\n",
       "</table>\n",
       "<p>1030 rows × 9 columns</p>\n",
       "</div>"
      ],
      "text/plain": [
       "      cement  blast_furnace_slag  fly_ash  water  superplasticizer  \\\n",
       "0      540.0                 0.0      0.0  162.0               2.5   \n",
       "1      540.0                 0.0      0.0  162.0               2.5   \n",
       "2      332.5               142.5      0.0  228.0               0.0   \n",
       "3      332.5               142.5      0.0  228.0               0.0   \n",
       "4      198.6               132.4      0.0  192.0               0.0   \n",
       "...      ...                 ...      ...    ...               ...   \n",
       "1025   276.4               116.0     90.3  179.6               8.9   \n",
       "1026   322.2                 0.0    115.6  196.0              10.4   \n",
       "1027   148.5               139.4    108.6  192.7               6.1   \n",
       "1028   159.1               186.7      0.0  175.6              11.3   \n",
       "1029   260.9               100.5     78.3  200.6               8.6   \n",
       "\n",
       "      coarse_aggregate  fine_aggregate   age  concrete_compressive_strength  \n",
       "0               1040.0            676.0   28                          79.99  \n",
       "1               1055.0            676.0   28                          61.89  \n",
       "2                932.0            594.0  270                          40.27  \n",
       "3                932.0            594.0  365                          41.05  \n",
       "4                978.4            825.5  360                          44.30  \n",
       "...                ...              ...  ...                            ...  \n",
       "1025             870.1            768.3   28                          44.28  \n",
       "1026             817.9            813.4   28                          31.18  \n",
       "1027             892.4            780.0   28                          23.70  \n",
       "1028             989.6            788.9   28                          32.77  \n",
       "1029             864.5            761.5   28                          32.40  \n",
       "\n",
       "[1030 rows x 9 columns]"
      ]
     },
     "execution_count": 3,
     "metadata": {},
     "output_type": "execute_result"
    }
   ],
   "source": [
    "concrete_dataset"
   ]
  },
  {
   "cell_type": "code",
   "execution_count": 4,
   "id": "51991e1e",
   "metadata": {},
   "outputs": [
    {
     "data": {
      "text/html": [
       "<div>\n",
       "<style scoped>\n",
       "    .dataframe tbody tr th:only-of-type {\n",
       "        vertical-align: middle;\n",
       "    }\n",
       "\n",
       "    .dataframe tbody tr th {\n",
       "        vertical-align: top;\n",
       "    }\n",
       "\n",
       "    .dataframe thead th {\n",
       "        text-align: right;\n",
       "    }\n",
       "</style>\n",
       "<table border=\"1\" class=\"dataframe\">\n",
       "  <thead>\n",
       "    <tr style=\"text-align: right;\">\n",
       "      <th></th>\n",
       "      <th>cement</th>\n",
       "      <th>blast_furnace_slag</th>\n",
       "      <th>fly_ash</th>\n",
       "      <th>water</th>\n",
       "      <th>superplasticizer</th>\n",
       "      <th>coarse_aggregate</th>\n",
       "      <th>fine_aggregate</th>\n",
       "      <th>age</th>\n",
       "      <th>concrete_compressive_strength</th>\n",
       "    </tr>\n",
       "  </thead>\n",
       "  <tbody>\n",
       "    <tr>\n",
       "      <th>count</th>\n",
       "      <td>1030.000000</td>\n",
       "      <td>1030.000000</td>\n",
       "      <td>1030.000000</td>\n",
       "      <td>1030.000000</td>\n",
       "      <td>1030.000000</td>\n",
       "      <td>1030.000000</td>\n",
       "      <td>1030.000000</td>\n",
       "      <td>1030.000000</td>\n",
       "      <td>1030.000000</td>\n",
       "    </tr>\n",
       "    <tr>\n",
       "      <th>mean</th>\n",
       "      <td>281.167864</td>\n",
       "      <td>73.895825</td>\n",
       "      <td>54.188350</td>\n",
       "      <td>181.567282</td>\n",
       "      <td>6.204660</td>\n",
       "      <td>972.918932</td>\n",
       "      <td>773.580485</td>\n",
       "      <td>45.662136</td>\n",
       "      <td>35.817961</td>\n",
       "    </tr>\n",
       "    <tr>\n",
       "      <th>std</th>\n",
       "      <td>104.506364</td>\n",
       "      <td>86.279342</td>\n",
       "      <td>63.997004</td>\n",
       "      <td>21.354219</td>\n",
       "      <td>5.973841</td>\n",
       "      <td>77.753954</td>\n",
       "      <td>80.175980</td>\n",
       "      <td>63.169912</td>\n",
       "      <td>16.705742</td>\n",
       "    </tr>\n",
       "    <tr>\n",
       "      <th>min</th>\n",
       "      <td>102.000000</td>\n",
       "      <td>0.000000</td>\n",
       "      <td>0.000000</td>\n",
       "      <td>121.800000</td>\n",
       "      <td>0.000000</td>\n",
       "      <td>801.000000</td>\n",
       "      <td>594.000000</td>\n",
       "      <td>1.000000</td>\n",
       "      <td>2.330000</td>\n",
       "    </tr>\n",
       "    <tr>\n",
       "      <th>25%</th>\n",
       "      <td>192.375000</td>\n",
       "      <td>0.000000</td>\n",
       "      <td>0.000000</td>\n",
       "      <td>164.900000</td>\n",
       "      <td>0.000000</td>\n",
       "      <td>932.000000</td>\n",
       "      <td>730.950000</td>\n",
       "      <td>7.000000</td>\n",
       "      <td>23.710000</td>\n",
       "    </tr>\n",
       "    <tr>\n",
       "      <th>50%</th>\n",
       "      <td>272.900000</td>\n",
       "      <td>22.000000</td>\n",
       "      <td>0.000000</td>\n",
       "      <td>185.000000</td>\n",
       "      <td>6.400000</td>\n",
       "      <td>968.000000</td>\n",
       "      <td>779.500000</td>\n",
       "      <td>28.000000</td>\n",
       "      <td>34.445000</td>\n",
       "    </tr>\n",
       "    <tr>\n",
       "      <th>75%</th>\n",
       "      <td>350.000000</td>\n",
       "      <td>142.950000</td>\n",
       "      <td>118.300000</td>\n",
       "      <td>192.000000</td>\n",
       "      <td>10.200000</td>\n",
       "      <td>1029.400000</td>\n",
       "      <td>824.000000</td>\n",
       "      <td>56.000000</td>\n",
       "      <td>46.135000</td>\n",
       "    </tr>\n",
       "    <tr>\n",
       "      <th>max</th>\n",
       "      <td>540.000000</td>\n",
       "      <td>359.400000</td>\n",
       "      <td>200.100000</td>\n",
       "      <td>247.000000</td>\n",
       "      <td>32.200000</td>\n",
       "      <td>1145.000000</td>\n",
       "      <td>992.600000</td>\n",
       "      <td>365.000000</td>\n",
       "      <td>82.600000</td>\n",
       "    </tr>\n",
       "  </tbody>\n",
       "</table>\n",
       "</div>"
      ],
      "text/plain": [
       "            cement  blast_furnace_slag      fly_ash        water  \\\n",
       "count  1030.000000         1030.000000  1030.000000  1030.000000   \n",
       "mean    281.167864           73.895825    54.188350   181.567282   \n",
       "std     104.506364           86.279342    63.997004    21.354219   \n",
       "min     102.000000            0.000000     0.000000   121.800000   \n",
       "25%     192.375000            0.000000     0.000000   164.900000   \n",
       "50%     272.900000           22.000000     0.000000   185.000000   \n",
       "75%     350.000000          142.950000   118.300000   192.000000   \n",
       "max     540.000000          359.400000   200.100000   247.000000   \n",
       "\n",
       "       superplasticizer  coarse_aggregate  fine_aggregate           age  \\\n",
       "count       1030.000000       1030.000000      1030.000000  1030.000000   \n",
       "mean           6.204660        972.918932       773.580485    45.662136   \n",
       "std            5.973841         77.753954        80.175980    63.169912   \n",
       "min            0.000000        801.000000       594.000000     1.000000   \n",
       "25%            0.000000        932.000000       730.950000     7.000000   \n",
       "50%            6.400000        968.000000       779.500000    28.000000   \n",
       "75%           10.200000       1029.400000       824.000000    56.000000   \n",
       "max           32.200000       1145.000000       992.600000   365.000000   \n",
       "\n",
       "       concrete_compressive_strength  \n",
       "count                    1030.000000  \n",
       "mean                       35.817961  \n",
       "std                        16.705742  \n",
       "min                         2.330000  \n",
       "25%                        23.710000  \n",
       "50%                        34.445000  \n",
       "75%                        46.135000  \n",
       "max                        82.600000  "
      ]
     },
     "execution_count": 4,
     "metadata": {},
     "output_type": "execute_result"
    }
   ],
   "source": [
    "concrete_dataset.describe()"
   ]
  },
  {
   "cell_type": "code",
   "execution_count": 5,
   "id": "648afc55",
   "metadata": {},
   "outputs": [
    {
     "data": {
      "text/plain": [
       "cement                           0\n",
       "blast_furnace_slag               0\n",
       "fly_ash                          0\n",
       "water                            0\n",
       "superplasticizer                 0\n",
       "coarse_aggregate                 0\n",
       "fine_aggregate                   0\n",
       "age                              0\n",
       "concrete_compressive_strength    0\n",
       "dtype: int64"
      ]
     },
     "execution_count": 5,
     "metadata": {},
     "output_type": "execute_result"
    }
   ],
   "source": [
    "concrete_dataset.isnull().sum()"
   ]
  },
  {
   "cell_type": "code",
   "execution_count": 6,
   "id": "ff1ce6ff",
   "metadata": {},
   "outputs": [],
   "source": [
    "x=concrete_dataset.drop(columns=\"concrete_compressive_strength\",axis=1)"
   ]
  },
  {
   "cell_type": "code",
   "execution_count": 7,
   "id": "e1d0d28c",
   "metadata": {},
   "outputs": [
    {
     "data": {
      "text/html": [
       "<div>\n",
       "<style scoped>\n",
       "    .dataframe tbody tr th:only-of-type {\n",
       "        vertical-align: middle;\n",
       "    }\n",
       "\n",
       "    .dataframe tbody tr th {\n",
       "        vertical-align: top;\n",
       "    }\n",
       "\n",
       "    .dataframe thead th {\n",
       "        text-align: right;\n",
       "    }\n",
       "</style>\n",
       "<table border=\"1\" class=\"dataframe\">\n",
       "  <thead>\n",
       "    <tr style=\"text-align: right;\">\n",
       "      <th></th>\n",
       "      <th>cement</th>\n",
       "      <th>blast_furnace_slag</th>\n",
       "      <th>fly_ash</th>\n",
       "      <th>water</th>\n",
       "      <th>superplasticizer</th>\n",
       "      <th>coarse_aggregate</th>\n",
       "      <th>fine_aggregate</th>\n",
       "      <th>age</th>\n",
       "    </tr>\n",
       "  </thead>\n",
       "  <tbody>\n",
       "    <tr>\n",
       "      <th>0</th>\n",
       "      <td>540.0</td>\n",
       "      <td>0.0</td>\n",
       "      <td>0.0</td>\n",
       "      <td>162.0</td>\n",
       "      <td>2.5</td>\n",
       "      <td>1040.0</td>\n",
       "      <td>676.0</td>\n",
       "      <td>28</td>\n",
       "    </tr>\n",
       "    <tr>\n",
       "      <th>1</th>\n",
       "      <td>540.0</td>\n",
       "      <td>0.0</td>\n",
       "      <td>0.0</td>\n",
       "      <td>162.0</td>\n",
       "      <td>2.5</td>\n",
       "      <td>1055.0</td>\n",
       "      <td>676.0</td>\n",
       "      <td>28</td>\n",
       "    </tr>\n",
       "    <tr>\n",
       "      <th>2</th>\n",
       "      <td>332.5</td>\n",
       "      <td>142.5</td>\n",
       "      <td>0.0</td>\n",
       "      <td>228.0</td>\n",
       "      <td>0.0</td>\n",
       "      <td>932.0</td>\n",
       "      <td>594.0</td>\n",
       "      <td>270</td>\n",
       "    </tr>\n",
       "    <tr>\n",
       "      <th>3</th>\n",
       "      <td>332.5</td>\n",
       "      <td>142.5</td>\n",
       "      <td>0.0</td>\n",
       "      <td>228.0</td>\n",
       "      <td>0.0</td>\n",
       "      <td>932.0</td>\n",
       "      <td>594.0</td>\n",
       "      <td>365</td>\n",
       "    </tr>\n",
       "    <tr>\n",
       "      <th>4</th>\n",
       "      <td>198.6</td>\n",
       "      <td>132.4</td>\n",
       "      <td>0.0</td>\n",
       "      <td>192.0</td>\n",
       "      <td>0.0</td>\n",
       "      <td>978.4</td>\n",
       "      <td>825.5</td>\n",
       "      <td>360</td>\n",
       "    </tr>\n",
       "    <tr>\n",
       "      <th>...</th>\n",
       "      <td>...</td>\n",
       "      <td>...</td>\n",
       "      <td>...</td>\n",
       "      <td>...</td>\n",
       "      <td>...</td>\n",
       "      <td>...</td>\n",
       "      <td>...</td>\n",
       "      <td>...</td>\n",
       "    </tr>\n",
       "    <tr>\n",
       "      <th>1025</th>\n",
       "      <td>276.4</td>\n",
       "      <td>116.0</td>\n",
       "      <td>90.3</td>\n",
       "      <td>179.6</td>\n",
       "      <td>8.9</td>\n",
       "      <td>870.1</td>\n",
       "      <td>768.3</td>\n",
       "      <td>28</td>\n",
       "    </tr>\n",
       "    <tr>\n",
       "      <th>1026</th>\n",
       "      <td>322.2</td>\n",
       "      <td>0.0</td>\n",
       "      <td>115.6</td>\n",
       "      <td>196.0</td>\n",
       "      <td>10.4</td>\n",
       "      <td>817.9</td>\n",
       "      <td>813.4</td>\n",
       "      <td>28</td>\n",
       "    </tr>\n",
       "    <tr>\n",
       "      <th>1027</th>\n",
       "      <td>148.5</td>\n",
       "      <td>139.4</td>\n",
       "      <td>108.6</td>\n",
       "      <td>192.7</td>\n",
       "      <td>6.1</td>\n",
       "      <td>892.4</td>\n",
       "      <td>780.0</td>\n",
       "      <td>28</td>\n",
       "    </tr>\n",
       "    <tr>\n",
       "      <th>1028</th>\n",
       "      <td>159.1</td>\n",
       "      <td>186.7</td>\n",
       "      <td>0.0</td>\n",
       "      <td>175.6</td>\n",
       "      <td>11.3</td>\n",
       "      <td>989.6</td>\n",
       "      <td>788.9</td>\n",
       "      <td>28</td>\n",
       "    </tr>\n",
       "    <tr>\n",
       "      <th>1029</th>\n",
       "      <td>260.9</td>\n",
       "      <td>100.5</td>\n",
       "      <td>78.3</td>\n",
       "      <td>200.6</td>\n",
       "      <td>8.6</td>\n",
       "      <td>864.5</td>\n",
       "      <td>761.5</td>\n",
       "      <td>28</td>\n",
       "    </tr>\n",
       "  </tbody>\n",
       "</table>\n",
       "<p>1030 rows × 8 columns</p>\n",
       "</div>"
      ],
      "text/plain": [
       "      cement  blast_furnace_slag  fly_ash  water  superplasticizer  \\\n",
       "0      540.0                 0.0      0.0  162.0               2.5   \n",
       "1      540.0                 0.0      0.0  162.0               2.5   \n",
       "2      332.5               142.5      0.0  228.0               0.0   \n",
       "3      332.5               142.5      0.0  228.0               0.0   \n",
       "4      198.6               132.4      0.0  192.0               0.0   \n",
       "...      ...                 ...      ...    ...               ...   \n",
       "1025   276.4               116.0     90.3  179.6               8.9   \n",
       "1026   322.2                 0.0    115.6  196.0              10.4   \n",
       "1027   148.5               139.4    108.6  192.7               6.1   \n",
       "1028   159.1               186.7      0.0  175.6              11.3   \n",
       "1029   260.9               100.5     78.3  200.6               8.6   \n",
       "\n",
       "      coarse_aggregate  fine_aggregate   age  \n",
       "0               1040.0            676.0   28  \n",
       "1               1055.0            676.0   28  \n",
       "2                932.0            594.0  270  \n",
       "3                932.0            594.0  365  \n",
       "4                978.4            825.5  360  \n",
       "...                ...              ...  ...  \n",
       "1025             870.1            768.3   28  \n",
       "1026             817.9            813.4   28  \n",
       "1027             892.4            780.0   28  \n",
       "1028             989.6            788.9   28  \n",
       "1029             864.5            761.5   28  \n",
       "\n",
       "[1030 rows x 8 columns]"
      ]
     },
     "execution_count": 7,
     "metadata": {},
     "output_type": "execute_result"
    }
   ],
   "source": [
    "x"
   ]
  },
  {
   "cell_type": "code",
   "execution_count": 8,
   "id": "0a09ad20",
   "metadata": {},
   "outputs": [],
   "source": [
    "y=concrete_dataset[\"concrete_compressive_strength\"]"
   ]
  },
  {
   "cell_type": "code",
   "execution_count": 9,
   "id": "deb6eda0",
   "metadata": {},
   "outputs": [
    {
     "data": {
      "text/plain": [
       "0       79.99\n",
       "1       61.89\n",
       "2       40.27\n",
       "3       41.05\n",
       "4       44.30\n",
       "        ...  \n",
       "1025    44.28\n",
       "1026    31.18\n",
       "1027    23.70\n",
       "1028    32.77\n",
       "1029    32.40\n",
       "Name: concrete_compressive_strength, Length: 1030, dtype: float64"
      ]
     },
     "execution_count": 9,
     "metadata": {},
     "output_type": "execute_result"
    }
   ],
   "source": [
    "y"
   ]
  },
  {
   "cell_type": "markdown",
   "id": "1bd5a0a2",
   "metadata": {},
   "source": [
    "Correlations:/\n",
    "positive Correlations:/\n",
    "negative Correlations:/"
   ]
  },
  {
   "cell_type": "code",
   "execution_count": 10,
   "id": "1eab1afb",
   "metadata": {},
   "outputs": [],
   "source": [
    "# Correlations=concrete_dataset.corr()"
   ]
  },
  {
   "cell_type": "code",
   "execution_count": 11,
   "id": "e55ba684",
   "metadata": {},
   "outputs": [],
   "source": [
    "# plt.figure(figsize=(10,10))\n",
    "# sns.heatmap(Correlations, cbar= True , square= True, fmt=\"0.1f\",annot=True,annot_kws={\"size\":8},cmap=\"blues\")"
   ]
  },
  {
   "cell_type": "markdown",
   "id": "2394f27b",
   "metadata": {},
   "source": [
    "splitting the data by train test split"
   ]
  },
  {
   "cell_type": "code",
   "execution_count": 12,
   "id": "e7ec9e29",
   "metadata": {},
   "outputs": [],
   "source": [
    "x_train,x_test,y_train,y_test= train_test_split(x,y,test_size=0.2,random_state=2)"
   ]
  },
  {
   "cell_type": "markdown",
   "id": "1d6e9366",
   "metadata": {},
   "source": [
    "Training the model:/\n"
   ]
  },
  {
   "cell_type": "code",
   "execution_count": 13,
   "id": "ccf72808",
   "metadata": {},
   "outputs": [],
   "source": [
    "model=XGBRegressor()"
   ]
  },
  {
   "cell_type": "code",
   "execution_count": 14,
   "id": "e81fd664",
   "metadata": {},
   "outputs": [
    {
     "data": {
      "text/html": [
       "<style>#sk-container-id-1 {color: black;background-color: white;}#sk-container-id-1 pre{padding: 0;}#sk-container-id-1 div.sk-toggleable {background-color: white;}#sk-container-id-1 label.sk-toggleable__label {cursor: pointer;display: block;width: 100%;margin-bottom: 0;padding: 0.3em;box-sizing: border-box;text-align: center;}#sk-container-id-1 label.sk-toggleable__label-arrow:before {content: \"▸\";float: left;margin-right: 0.25em;color: #696969;}#sk-container-id-1 label.sk-toggleable__label-arrow:hover:before {color: black;}#sk-container-id-1 div.sk-estimator:hover label.sk-toggleable__label-arrow:before {color: black;}#sk-container-id-1 div.sk-toggleable__content {max-height: 0;max-width: 0;overflow: hidden;text-align: left;background-color: #f0f8ff;}#sk-container-id-1 div.sk-toggleable__content pre {margin: 0.2em;color: black;border-radius: 0.25em;background-color: #f0f8ff;}#sk-container-id-1 input.sk-toggleable__control:checked~div.sk-toggleable__content {max-height: 200px;max-width: 100%;overflow: auto;}#sk-container-id-1 input.sk-toggleable__control:checked~label.sk-toggleable__label-arrow:before {content: \"▾\";}#sk-container-id-1 div.sk-estimator input.sk-toggleable__control:checked~label.sk-toggleable__label {background-color: #d4ebff;}#sk-container-id-1 div.sk-label input.sk-toggleable__control:checked~label.sk-toggleable__label {background-color: #d4ebff;}#sk-container-id-1 input.sk-hidden--visually {border: 0;clip: rect(1px 1px 1px 1px);clip: rect(1px, 1px, 1px, 1px);height: 1px;margin: -1px;overflow: hidden;padding: 0;position: absolute;width: 1px;}#sk-container-id-1 div.sk-estimator {font-family: monospace;background-color: #f0f8ff;border: 1px dotted black;border-radius: 0.25em;box-sizing: border-box;margin-bottom: 0.5em;}#sk-container-id-1 div.sk-estimator:hover {background-color: #d4ebff;}#sk-container-id-1 div.sk-parallel-item::after {content: \"\";width: 100%;border-bottom: 1px solid gray;flex-grow: 1;}#sk-container-id-1 div.sk-label:hover label.sk-toggleable__label {background-color: #d4ebff;}#sk-container-id-1 div.sk-serial::before {content: \"\";position: absolute;border-left: 1px solid gray;box-sizing: border-box;top: 0;bottom: 0;left: 50%;z-index: 0;}#sk-container-id-1 div.sk-serial {display: flex;flex-direction: column;align-items: center;background-color: white;padding-right: 0.2em;padding-left: 0.2em;position: relative;}#sk-container-id-1 div.sk-item {position: relative;z-index: 1;}#sk-container-id-1 div.sk-parallel {display: flex;align-items: stretch;justify-content: center;background-color: white;position: relative;}#sk-container-id-1 div.sk-item::before, #sk-container-id-1 div.sk-parallel-item::before {content: \"\";position: absolute;border-left: 1px solid gray;box-sizing: border-box;top: 0;bottom: 0;left: 50%;z-index: -1;}#sk-container-id-1 div.sk-parallel-item {display: flex;flex-direction: column;z-index: 1;position: relative;background-color: white;}#sk-container-id-1 div.sk-parallel-item:first-child::after {align-self: flex-end;width: 50%;}#sk-container-id-1 div.sk-parallel-item:last-child::after {align-self: flex-start;width: 50%;}#sk-container-id-1 div.sk-parallel-item:only-child::after {width: 0;}#sk-container-id-1 div.sk-dashed-wrapped {border: 1px dashed gray;margin: 0 0.4em 0.5em 0.4em;box-sizing: border-box;padding-bottom: 0.4em;background-color: white;}#sk-container-id-1 div.sk-label label {font-family: monospace;font-weight: bold;display: inline-block;line-height: 1.2em;}#sk-container-id-1 div.sk-label-container {text-align: center;}#sk-container-id-1 div.sk-container {/* jupyter's `normalize.less` sets `[hidden] { display: none; }` but bootstrap.min.css set `[hidden] { display: none !important; }` so we also need the `!important` here to be able to override the default hidden behavior on the sphinx rendered scikit-learn.org. See: https://github.com/scikit-learn/scikit-learn/issues/21755 */display: inline-block !important;position: relative;}#sk-container-id-1 div.sk-text-repr-fallback {display: none;}</style><div id=\"sk-container-id-1\" class=\"sk-top-container\"><div class=\"sk-text-repr-fallback\"><pre>XGBRegressor(base_score=0.5, booster=&#x27;gbtree&#x27;, callbacks=None,\n",
       "             colsample_bylevel=1, colsample_bynode=1, colsample_bytree=1,\n",
       "             early_stopping_rounds=None, enable_categorical=False,\n",
       "             eval_metric=None, gamma=0, gpu_id=-1, grow_policy=&#x27;depthwise&#x27;,\n",
       "             importance_type=None, interaction_constraints=&#x27;&#x27;,\n",
       "             learning_rate=0.300000012, max_bin=256, max_cat_to_onehot=4,\n",
       "             max_delta_step=0, max_depth=6, max_leaves=0, min_child_weight=1,\n",
       "             missing=nan, monotone_constraints=&#x27;()&#x27;, n_estimators=100, n_jobs=0,\n",
       "             num_parallel_tree=1, predictor=&#x27;auto&#x27;, random_state=0, reg_alpha=0,\n",
       "             reg_lambda=1, ...)</pre><b>In a Jupyter environment, please rerun this cell to show the HTML representation or trust the notebook. <br />On GitHub, the HTML representation is unable to render, please try loading this page with nbviewer.org.</b></div><div class=\"sk-container\" hidden><div class=\"sk-item\"><div class=\"sk-estimator sk-toggleable\"><input class=\"sk-toggleable__control sk-hidden--visually\" id=\"sk-estimator-id-1\" type=\"checkbox\" checked><label for=\"sk-estimator-id-1\" class=\"sk-toggleable__label sk-toggleable__label-arrow\">XGBRegressor</label><div class=\"sk-toggleable__content\"><pre>XGBRegressor(base_score=0.5, booster=&#x27;gbtree&#x27;, callbacks=None,\n",
       "             colsample_bylevel=1, colsample_bynode=1, colsample_bytree=1,\n",
       "             early_stopping_rounds=None, enable_categorical=False,\n",
       "             eval_metric=None, gamma=0, gpu_id=-1, grow_policy=&#x27;depthwise&#x27;,\n",
       "             importance_type=None, interaction_constraints=&#x27;&#x27;,\n",
       "             learning_rate=0.300000012, max_bin=256, max_cat_to_onehot=4,\n",
       "             max_delta_step=0, max_depth=6, max_leaves=0, min_child_weight=1,\n",
       "             missing=nan, monotone_constraints=&#x27;()&#x27;, n_estimators=100, n_jobs=0,\n",
       "             num_parallel_tree=1, predictor=&#x27;auto&#x27;, random_state=0, reg_alpha=0,\n",
       "             reg_lambda=1, ...)</pre></div></div></div></div></div>"
      ],
      "text/plain": [
       "XGBRegressor(base_score=0.5, booster='gbtree', callbacks=None,\n",
       "             colsample_bylevel=1, colsample_bynode=1, colsample_bytree=1,\n",
       "             early_stopping_rounds=None, enable_categorical=False,\n",
       "             eval_metric=None, gamma=0, gpu_id=-1, grow_policy='depthwise',\n",
       "             importance_type=None, interaction_constraints='',\n",
       "             learning_rate=0.300000012, max_bin=256, max_cat_to_onehot=4,\n",
       "             max_delta_step=0, max_depth=6, max_leaves=0, min_child_weight=1,\n",
       "             missing=nan, monotone_constraints='()', n_estimators=100, n_jobs=0,\n",
       "             num_parallel_tree=1, predictor='auto', random_state=0, reg_alpha=0,\n",
       "             reg_lambda=1, ...)"
      ]
     },
     "execution_count": 14,
     "metadata": {},
     "output_type": "execute_result"
    }
   ],
   "source": [
    "model.fit(x_train,y_train)"
   ]
  },
  {
   "cell_type": "code",
   "execution_count": 15,
   "id": "e69eed96",
   "metadata": {},
   "outputs": [],
   "source": [
    "x_train_prediction=model.predict(x_train)"
   ]
  },
  {
   "cell_type": "code",
   "execution_count": 16,
   "id": "0da05d10",
   "metadata": {},
   "outputs": [
    {
     "data": {
      "text/plain": [
       "array([68.619865 , 38.224728 , 42.9525   , 38.363163 , 65.17686  ,\n",
       "       39.439487 , 32.64333  , 22.48393  , 10.829868 , 33.534283 ,\n",
       "       37.807453 , 39.27386  , 55.451897 , 42.12537  , 33.0291   ,\n",
       "       15.48698  , 79.39726  ,  3.3884516, 20.548979 , 25.928717 ,\n",
       "       21.285604 , 31.816593 , 13.546004 , 12.18756  , 15.302359 ,\n",
       "       24.485193 , 42.600845 , 32.63002  , 15.554774 , 77.29553  ,\n",
       "       35.211216 , 27.671175 , 52.987926 , 23.566666 , 39.524994 ,\n",
       "       34.97404  , 40.430218 , 14.386654 , 22.786339 , 56.627464 ,\n",
       "       28.984272 , 55.092525 , 66.22548  , 10.033386 , 40.56081  ,\n",
       "       33.328953 , 44.760635 , 12.379601 , 25.944841 , 15.035413 ,\n",
       "       41.987144 , 19.174997 , 26.539547 ,  8.090269 , 29.698572 ,\n",
       "       13.353449 , 39.750496 , 40.888145 , 37.575516 , 43.259792 ,\n",
       "       32.98587  , 50.01843  , 54.11142  , 39.69437  , 22.911034 ,\n",
       "       31.890652 , 33.534283 , 24.488966 , 33.385876 , 31.410841 ,\n",
       "       55.210896 , 38.581165 , 12.32166  , 36.27243  , 40.414806 ,\n",
       "       77.29553  , 63.57726  , 15.207852 , 41.95184  , 54.09231  ,\n",
       "       42.86114  , 44.103764 , 44.784378 , 37.44923  , 61.083115 ,\n",
       "       14.236433 , 12.426613 , 20.713062 , 75.48616  , 14.486471 ,\n",
       "       53.576927 , 35.358093 , 29.072725 ,  8.511004 , 60.968727 ,\n",
       "       79.39726  , 29.247738 , 56.75102  , 42.58127  , 45.132076 ,\n",
       "       43.538788 , 27.18836  , 26.566946 , 39.992645 , 12.607821 ,\n",
       "       17.853184 , 11.921414 , 33.32039  , 70.708954 , 41.078533 ,\n",
       "       50.20019  , 60.4281   , 59.21068  , 66.47755  , 45.66113  ,\n",
       "       17.264685 , 18.212824 , 10.038274 , 37.218    , 15.582823 ,\n",
       "       18.081852 , 11.572709 , 15.888207 , 33.534283 , 40.572586 ,\n",
       "       56.34732  , 19.83719  , 16.187494 , 42.70525  , 38.803856 ,\n",
       "       33.85351  , 21.192957 , 53.337357 , 47.1482   ,  8.563857 ,\n",
       "       67.45522  , 82.49653  , 30.04814  , 10.403306 , 24.83866  ,\n",
       "       36.28981  , 40.68388  , 55.49882  , 25.275822 , 23.776337 ,\n",
       "       41.35272  , 62.327114 , 39.06848  , 25.47476  , 24.414753 ,\n",
       "        9.733356 , 13.421681 , 50.8286   , 15.52889  ,  7.2841606,\n",
       "       17.039974 , 44.44285  , 18.504927 , 39.379448 , 26.104935 ,\n",
       "       11.777739 , 37.83069  , 37.178413 , 38.997375 , 38.184616 ,\n",
       "       13.76134  , 35.06041  , 13.216369 , 17.449003 , 28.452248 ,\n",
       "       27.27705  , 50.887074 , 30.001303 , 23.713951 ,  9.786455 ,\n",
       "       23.452541 , 40.141586 , 39.673206 , 76.732475 , 56.56108  ,\n",
       "       38.685097 , 51.25929  , 32.834423 , 34.868942 , 39.35941  ,\n",
       "       22.895058 , 21.88327  , 56.84594  , 36.303364 , 11.491575 ,\n",
       "       55.586155 , 32.53413  , 25.746265 , 26.409254 , 25.222965 ,\n",
       "       38.261    , 27.957113 , 37.91089  , 19.886574 , 14.223283 ,\n",
       "       39.93747  , 19.529465 , 24.529701 , 30.988922 , 30.45266  ,\n",
       "       40.51478  , 31.863995 , 41.732094 , 67.65064  , 30.697424 ,\n",
       "       33.886475 , 73.18076  , 39.52905  , 33.142044 , 23.467808 ,\n",
       "       63.88642  , 36.61578  , 37.00492  , 13.399575 , 19.497566 ,\n",
       "       37.394726 , 41.15571  , 49.590355 ,  9.7252445, 75.051315 ,\n",
       "       30.127455 , 35.970734 , 27.098019 , 20.358461 , 51.27754  ,\n",
       "       31.748034 , 43.534416 , 31.662209 , 29.371758 , 61.357517 ,\n",
       "       32.473064 , 36.183094 , 57.82431  , 25.873775 ,  7.8306766,\n",
       "       40.40392  , 25.418509 , 38.937485 , 17.437874 , 22.064665 ,\n",
       "       13.057254 , 56.687157 , 17.722244 , 12.69418  , 56.689793 ,\n",
       "       47.539577 , 67.65064  , 57.205925 , 51.660503 , 32.70385  ,\n",
       "       21.381157 , 47.38096  , 59.10784  , 41.715122 , 26.69012  ,\n",
       "       39.40161  , 26.845434 , 26.98262  , 65.759026 , 12.26555  ,\n",
       "       41.27731  , 60.4281   , 41.309624 , 73.29812  , 59.437057 ,\n",
       "       37.87734  , 31.115393 , 37.560333 , 59.2186   , 29.736586 ,\n",
       "       26.900713 , 31.68657  , 19.822632 , 22.605476 , 53.509254 ,\n",
       "       27.578682 , 38.16923  , 22.236769 , 70.708954 , 77.29553  ,\n",
       "       58.18701  , 63.692883 , 12.649667 , 56.653774 , 65.75144  ,\n",
       "       54.145973 , 52.086662 , 37.38132  , 66.966934 , 32.302624 ,\n",
       "       50.624157 , 34.063507 ,  9.90807  , 19.37297  , 32.596706 ,\n",
       "       39.64923  , 52.166405 , 52.100132 , 20.965662 , 25.523355 ,\n",
       "       23.452541 , 74.208206 , 15.705767 , 22.070559 , 41.912376 ,\n",
       "       13.902328 , 61.321827 , 49.878834 , 75.20818  , 13.976457 ,\n",
       "       33.791695 , 38.243797 , 25.759907 , 42.813686 , 11.4688835,\n",
       "       15.081586 , 26.075079 , 33.10244  , 36.143856 , 17.841694 ,\n",
       "       29.769552 , 33.531673 , 28.169897 , 26.23373  , 32.750736 ,\n",
       "        9.096383 , 37.33796  , 20.183283 , 19.176218 , 19.456738 ,\n",
       "       48.899544 , 29.657984 , 44.204437 , 37.625393 , 79.576004 ,\n",
       "       55.843437 , 31.838842 , 41.887886 , 23.265398 , 44.317684 ,\n",
       "       18.276134 ,  7.461556 , 74.26232  , 37.854176 , 54.81915  ,\n",
       "       25.377659 , 53.09215  , 40.489956 , 35.519802 , 66.06868  ,\n",
       "       25.17633  , 42.741486 , 38.190323 , 81.77014  , 44.104465 ,\n",
       "       43.22896  , 68.04095  , 48.899544 , 52.957466 , 14.478879 ,\n",
       "       23.904259 , 25.32707  , 29.425978 , 30.55283  , 13.228807 ,\n",
       "       31.195372 , 70.74724  , 35.92494  , 39.5787   , 30.159836 ,\n",
       "       60.4281   , 45.66113  , 13.475208 , 47.823044 , 29.42882  ,\n",
       "       43.63881  , 41.178116 , 71.95285  , 47.251045 , 44.1759   ,\n",
       "       42.78153  , 15.634951 , 28.090225 , 42.9525   , 36.79711  ,\n",
       "       14.35671  , 41.55523  , 38.585014 , 36.870304 , 39.27832  ,\n",
       "       74.26224  , 44.29379  , 12.379601 , 59.698402 , 39.885582 ,\n",
       "       62.561596 , 23.9289   , 52.087284 , 39.91578  , 39.335968 ,\n",
       "       46.292362 , 25.373236 , 46.83447  , 53.96446  , 29.259838 ,\n",
       "       11.102601 , 33.45971  , 21.7378   , 19.873549 , 51.62663  ,\n",
       "       29.029903 , 26.140572 , 31.236185 , 25.55026  , 13.769838 ,\n",
       "       37.542637 , 24.668169 , 37.40163  , 23.569313 , 73.63301  ,\n",
       "       41.23554  , 32.87472  , 61.982277 , 23.05868  , 12.338352 ,\n",
       "       15.965867 , 23.214931 , 25.810759 , 78.40691  , 69.68621  ,\n",
       "       52.043407 , 46.16496  , 11.229894 , 22.531109 , 37.77286  ,\n",
       "       23.97798  ,  2.1633842, 26.019493 , 49.294033 , 48.247295 ,\n",
       "       19.68457  , 55.84852  , 32.50309  , 52.170616 , 38.07779  ,\n",
       "       17.374865 , 49.00323  , 39.319633 , 28.523409 , 55.167572 ,\n",
       "       18.692429 ,  9.908372 , 55.81674  , 13.1681   , 35.55983  ,\n",
       "       17.851282 , 45.66113  , 33.719475 , 61.321827 , 32.954044 ,\n",
       "       44.10137  , 51.200264 , 45.757236 , 13.330667 , 15.680655 ,\n",
       "       31.92115  , 25.77564  , 57.56855  , 13.384784 , 35.243195 ,\n",
       "       38.425682 , 47.862385 , 22.06943  , 43.535835 , 33.802063 ,\n",
       "       24.729784 , 24.138996 , 15.502759 , 17.096462 , 64.851974 ,\n",
       "       15.713928 ,  9.908372 , 42.861454 , 54.71946  , 43.459915 ,\n",
       "       74.27787  , 14.044167 , 36.253803 , 20.881636 , 17.466682 ,\n",
       "       19.619303 , 56.696648 , 46.243004 , 15.592132 , 17.64455  ,\n",
       "       21.833956 , 58.982174 , 71.7041   , 25.012016 , 10.043113 ,\n",
       "       61.069443 , 48.81229  , 26.167965 , 72.36641  ,  7.8197336,\n",
       "       41.210514 , 43.390778 , 33.037567 , 29.376274 , 15.744796 ,\n",
       "       24.666288 , 17.082663 , 23.974419 , 44.95859  , 55.739403 ,\n",
       "       32.42259  ,  9.267795 , 42.47253  , 46.999054 , 13.399575 ,\n",
       "       37.24727  , 14.313336 , 62.219837 , 40.751797 , 36.625744 ,\n",
       "       23.694698 , 21.05304  , 56.148697 , 15.743035 ,  4.986032 ,\n",
       "       35.719097 , 28.633505 , 21.956135 , 36.102386 , 58.302402 ,\n",
       "       12.218174 , 61.70044  , 24.669443 , 10.292837 , 27.644493 ,\n",
       "       33.41224  , 36.316315 , 53.85668  , 15.013307 , 54.48345  ,\n",
       "       46.752804 , 67.48196  , 52.452236 , 42.46957  , 20.486284 ,\n",
       "       32.44494  , 40.197857 , 51.71678  , 48.063477 , 40.660122 ,\n",
       "       44.687084 , 33.478146 , 37.75157  , 24.218597 , 24.757591 ,\n",
       "       48.87157  , 25.980844 ,  6.6241746, 15.850402 , 41.987144 ,\n",
       "       29.946527 , 58.501232 , 30.737545 , 79.74439  , 10.926687 ,\n",
       "       12.338352 , 21.06752  , 15.385257 , 14.519082 , 41.2388   ,\n",
       "       32.332752 , 39.705307 , 24.204271 , 65.476944 , 17.3219   ,\n",
       "       66.910774 , 16.70146  , 67.4924   , 36.479324 , 43.50584  ,\n",
       "       41.124073 , 40.03648  , 35.218822 , 53.72231  , 41.761185 ,\n",
       "       10.30628  , 57.344696 , 23.741896 , 11.7014885, 48.281216 ,\n",
       "       67.208984 , 30.814812 , 21.89434  , 39.51695  , 69.495514 ,\n",
       "       33.860233 , 64.00254  , 39.928177 , 61.4939   , 35.30996  ,\n",
       "       48.899544 , 29.44386  , 19.694862 , 25.918097 , 26.533058 ,\n",
       "       47.79678  , 21.218842 ,  9.405425 , 51.999897 , 33.919746 ,\n",
       "       20.53166  , 66.2449   , 23.670706 , 57.198135 , 55.207584 ,\n",
       "       50.688766 , 66.39369  , 43.883213 , 50.90837  , 32.59983  ,\n",
       "       41.025635 ,  4.34665  , 54.411354 , 27.90765  , 37.246773 ,\n",
       "       27.186392 , 44.984158 , 45.743176 , 33.270203 , 50.149868 ,\n",
       "       71.94812  , 36.316315 , 31.541668 , 12.771712 , 28.58742  ,\n",
       "       57.205925 , 44.462162 , 69.85339  , 13.72149  , 38.768593 ,\n",
       "       41.406876 , 31.39251  , 42.9525   , 10.567134 , 36.972084 ,\n",
       "       30.159836 , 15.035413 , 18.69406  , 31.090887 , 32.848965 ,\n",
       "       47.952595 ,  7.674806 , 43.141132 , 11.097929 , 28.738907 ,\n",
       "       36.952446 , 30.981195 , 39.51695  , 43.230957 , 26.829971 ,\n",
       "       24.15017  , 36.382927 , 38.458168 , 50.75874  , 40.576256 ,\n",
       "       38.98266  , 27.189438 , 43.679413 , 39.851    ,  7.24677  ,\n",
       "       79.871605 , 54.27578  , 32.788834 , 33.143707 , 44.051353 ,\n",
       "       17.522852 , 31.126068 , 14.325213 , 58.417038 , 52.27984  ,\n",
       "       37.32386  , 35.870823 , 41.605457 , 53.59746  , 43.608036 ,\n",
       "       34.28029  , 17.396158 , 32.9007   ,  8.438049 , 49.806023 ,\n",
       "       33.318966 , 52.28901  , 29.42882  , 52.704296 , 10.895638 ,\n",
       "       15.881398 , 29.391386 , 37.18706  , 11.856523 , 57.205925 ,\n",
       "       40.418777 , 44.12736  , 66.884796 , 23.772835 , 29.986752 ,\n",
       "       61.010242 , 32.3526   , 41.27986  , 24.17878  , 50.136833 ,\n",
       "       57.096493 , 28.710104 , 51.468704 , 25.127289 , 17.870483 ,\n",
       "       21.707916 , 60.040085 , 31.233047 , 42.111053 , 42.4614   ,\n",
       "       15.375489 , 34.97404  , 27.66565  , 22.080555 ,  7.343918 ,\n",
       "       33.968227 , 53.44735  , 11.982372 , 51.538216 , 27.217937 ,\n",
       "        8.065265 , 23.741896 , 54.620193 , 34.48434  , 13.220101 ,\n",
       "       27.770355 , 47.853107 , 34.97404  , 54.526062 , 51.97725  ,\n",
       "       14.890226 , 51.290207 , 28.710104 ,  7.984623 , 33.91915  ,\n",
       "       26.32917  , 44.24041  , 30.552832 , 10.403306 , 58.92578  ,\n",
       "       27.285284 , 47.539253 , 29.18711  , 21.984894 , 34.284992 ,\n",
       "       61.95298  , 32.94776  , 39.37661  , 29.10919  , 41.164124 ,\n",
       "       36.86028  , 33.199783 , 32.929886 , 15.373337 , 15.175714 ,\n",
       "       70.708954 , 39.353466 , 23.701605 , 49.992065 , 21.269054 ,\n",
       "       36.73897  , 53.06126  , 52.789875 , 68.07039  , 24.299778 ,\n",
       "       46.095226 , 37.958023 , 45.186695 ,  6.246357 , 34.97404  ,\n",
       "       42.478912 , 50.944294 , 25.88198  , 32.135876 , 25.031363 ,\n",
       "       19.209093 , 57.328728 , 27.71176  , 27.026184 , 46.923084 ,\n",
       "       18.319925 , 18.319925 , 24.777199 , 47.06429  , 24.850155 ,\n",
       "       31.804873 , 48.01939  , 12.458992 , 50.52532  , 76.21721  ,\n",
       "       39.839996 , 36.241474 , 16.587482 , 40.87697  , 38.479782 ,\n",
       "       27.096905 , 19.106564 , 43.85178  , 14.398343 , 36.503284 ,\n",
       "       34.4563   , 22.370293 , 40.952263 , 37.18706  ], dtype=float32)"
      ]
     },
     "execution_count": 16,
     "metadata": {},
     "output_type": "execute_result"
    }
   ],
   "source": [
    "x_train_prediction"
   ]
  },
  {
   "cell_type": "code",
   "execution_count": 17,
   "id": "c735dd59",
   "metadata": {},
   "outputs": [],
   "source": [
    "#R Square Error \n",
    "err1=metrics.r2_score(y_train,x_train_prediction)"
   ]
  },
  {
   "cell_type": "code",
   "execution_count": 18,
   "id": "38ee2cfe",
   "metadata": {},
   "outputs": [
    {
     "data": {
      "text/plain": [
       "0.9951271934408594"
      ]
     },
     "execution_count": 18,
     "metadata": {},
     "output_type": "execute_result"
    }
   ],
   "source": [
    "err1"
   ]
  },
  {
   "cell_type": "code",
   "execution_count": 19,
   "id": "6cc1b2ec",
   "metadata": {},
   "outputs": [],
   "source": [
    "#Mean square error "
   ]
  },
  {
   "cell_type": "code",
   "execution_count": 20,
   "id": "ea35458c",
   "metadata": {},
   "outputs": [],
   "source": [
    "err2=metrics.mean_squared_error(y_train,x_train_prediction)"
   ]
  },
  {
   "cell_type": "code",
   "execution_count": 21,
   "id": "991c9e60",
   "metadata": {},
   "outputs": [
    {
     "data": {
      "text/plain": [
       "1.3980154420498476"
      ]
     },
     "execution_count": 21,
     "metadata": {},
     "output_type": "execute_result"
    }
   ],
   "source": [
    "err2"
   ]
  },
  {
   "cell_type": "markdown",
   "id": "05dd9287",
   "metadata": {},
   "source": [
    "Testing Data Prediction"
   ]
  },
  {
   "cell_type": "code",
   "execution_count": 22,
   "id": "aa56e7a8",
   "metadata": {},
   "outputs": [],
   "source": [
    "x_test_prediction=model.predict(x_test)"
   ]
  },
  {
   "cell_type": "code",
   "execution_count": 23,
   "id": "4d3b64b5",
   "metadata": {},
   "outputs": [
    {
     "data": {
      "text/plain": [
       "array([40.662773 , 16.653461 , 21.16065  , 14.991272 , 39.007275 ,\n",
       "       47.839314 , 31.518084 , 29.42882  , 25.947609 ,  4.1551337,\n",
       "       27.567022 , 25.191795 , 46.83447  , 38.320076 , 42.603798 ,\n",
       "       46.83447  , 23.121775 , 32.884895 , 60.76202  , 35.12252  ,\n",
       "       24.215685 , 31.624859 , 28.327316 ,  3.1235847, 44.140465 ,\n",
       "       26.98262  , 49.443615 , 37.079098 , 14.34446  , 30.015654 ,\n",
       "       54.629395 , 23.223015 , 24.613642 , 27.271305 , 57.853516 ,\n",
       "       30.836332 , 40.621235 , 15.966143 , 44.549957 , 31.449255 ,\n",
       "       45.25119  , 39.2058   , 24.820698 , 37.34412  , 46.75582  ,\n",
       "       39.770916 , 36.945145 , 18.585955 , 53.000435 , 31.058578 ,\n",
       "       16.175508 , 23.422451 , 65.17686  , 64.40276  , 27.150467 ,\n",
       "       42.630253 , 14.864527 , 47.76199  , 41.241314 , 39.254517 ,\n",
       "       70.708954 , 46.253613 , 31.806644 , 27.652336 , 41.6156   ,\n",
       "        9.020124 , 21.664919 , 49.967957 , 79.39726  , 15.0485735,\n",
       "       27.247663 , 30.61431  , 46.129383 , 51.901085 , 49.40533  ,\n",
       "       35.119747 , 31.708353 , 28.159962 , 35.211216 , 22.731445 ,\n",
       "       38.771767 , 27.808784 , 18.4326   ,  9.083086 , 44.65545  ,\n",
       "       24.544888 ,  9.255273 , 25.76599  , 42.24101  , 51.77627  ,\n",
       "       13.583916 , 50.47372  , 27.677042 ,  8.293967 , 31.748352 ,\n",
       "       19.12044  , 52.181576 , 26.393782 , 26.13715  , 17.726454 ,\n",
       "       23.45247  , 11.3375845, 29.391563 , 33.343063 , 27.700727 ,\n",
       "       28.75197  , 51.728447 , 28.427237 , 27.35245  , 42.891953 ,\n",
       "       55.182465 , 64.00254  , 30.749994 , 52.88661  , 45.775764 ,\n",
       "       50.468166 , 32.334663 , 11.205379 , 44.32593  , 47.88956  ,\n",
       "       48.157425 , 54.879402 , 39.024075 , 24.054817 , 22.549402 ,\n",
       "       30.348066 , 27.25526  , 43.397095 , 37.5964   , 30.168297 ,\n",
       "       22.850933 , 28.648739 , 62.44069  , 24.770489 ,  8.041908 ,\n",
       "       35.551933 ,  9.76663  , 19.1996   , 32.054462 , 52.987926 ,\n",
       "       23.535538 , 39.96943  , 27.786392 , 64.00254  , 37.13458  ,\n",
       "       45.74939  , 43.66009  , 46.75582  , 35.66915  , 27.7729   ,\n",
       "       42.202927 , 44.208122 , 44.74144  , 72.22329  , 21.16065  ,\n",
       "       39.26095  , 16.865349 , 57.539753 ,  8.87648  , 34.6451   ,\n",
       "       67.84697  , 51.92989  , 45.74939  , 22.549402 , 68.23273  ,\n",
       "       44.44285  , 27.406242 , 43.74968  , 39.670498 , 34.89878  ,\n",
       "       30.49179  , 25.007154 , 39.591663 , 51.385468 , 33.396816 ,\n",
       "       21.18875  , 28.567533 , 17.57381  , 59.19248  , 31.718056 ,\n",
       "       23.701416 , 47.90023  , 46.963017 , 33.573586 , 66.54531  ,\n",
       "        7.4502754, 26.801117 , 33.791454 , 16.066854 , 39.126087 ,\n",
       "       24.613441 , 79.39726  , 42.59255  ,  9.446841 , 13.216369 ,\n",
       "       77.76863  , 33.108994 , 13.439533 , 45.66113  , 77.29553  ,\n",
       "       32.834423 , 27.601158 , 49.468838 , 11.685733 , 32.255447 ,\n",
       "       65.17686  ], dtype=float32)"
      ]
     },
     "execution_count": 23,
     "metadata": {},
     "output_type": "execute_result"
    }
   ],
   "source": [
    "x_test_prediction"
   ]
  },
  {
   "cell_type": "code",
   "execution_count": 24,
   "id": "4b1c8155",
   "metadata": {},
   "outputs": [],
   "source": [
    "#R squared Error:/\n",
    "err3=metrics.r2_score(x_test_prediction,y_test)"
   ]
  },
  {
   "cell_type": "code",
   "execution_count": 25,
   "id": "a848c9ca",
   "metadata": {},
   "outputs": [
    {
     "data": {
      "text/plain": [
       "0.9100018490023113"
      ]
     },
     "execution_count": 25,
     "metadata": {},
     "output_type": "execute_result"
    }
   ],
   "source": [
    "err3"
   ]
  },
  {
   "cell_type": "code",
   "execution_count": 26,
   "id": "0086d460",
   "metadata": {},
   "outputs": [],
   "source": [
    "#Mean squared error:/"
   ]
  },
  {
   "cell_type": "code",
   "execution_count": 27,
   "id": "aaf4b9ea",
   "metadata": {},
   "outputs": [],
   "source": [
    "err4=metrics.mean_squared_error(x_test_prediction,y_test)"
   ]
  },
  {
   "cell_type": "code",
   "execution_count": 28,
   "id": "5f7bd593",
   "metadata": {},
   "outputs": [
    {
     "data": {
      "text/plain": [
       "22.315311835625465"
      ]
     },
     "execution_count": 28,
     "metadata": {},
     "output_type": "execute_result"
    }
   ],
   "source": [
    "err4"
   ]
  },
  {
   "cell_type": "code",
   "execution_count": 29,
   "id": "da040eff",
   "metadata": {},
   "outputs": [],
   "source": [
    "input_data=(540.0,0.0,0.0,162.0,2.5,1040.0,676.0,28)"
   ]
  },
  {
   "cell_type": "code",
   "execution_count": 30,
   "id": "b92c043a",
   "metadata": {},
   "outputs": [],
   "source": [
    "input_data=np.asarray(input_data)"
   ]
  },
  {
   "cell_type": "code",
   "execution_count": 31,
   "id": "24e5d676",
   "metadata": {},
   "outputs": [
    {
     "data": {
      "text/plain": [
       "array([ 540. ,    0. ,    0. ,  162. ,    2.5, 1040. ,  676. ,   28. ])"
      ]
     },
     "execution_count": 31,
     "metadata": {},
     "output_type": "execute_result"
    }
   ],
   "source": [
    "input_data"
   ]
  },
  {
   "cell_type": "code",
   "execution_count": 32,
   "id": "18285851",
   "metadata": {},
   "outputs": [],
   "source": [
    "input_data=input_data.reshape(1,-1)"
   ]
  },
  {
   "cell_type": "code",
   "execution_count": 33,
   "id": "ba5d69da",
   "metadata": {},
   "outputs": [
    {
     "data": {
      "text/plain": [
       "array([[ 540. ,    0. ,    0. ,  162. ,    2.5, 1040. ,  676. ,   28. ]])"
      ]
     },
     "execution_count": 33,
     "metadata": {},
     "output_type": "execute_result"
    }
   ],
   "source": [
    "input_data"
   ]
  },
  {
   "cell_type": "code",
   "execution_count": 34,
   "id": "0a0d19f8",
   "metadata": {},
   "outputs": [],
   "source": [
    "pred=model.predict(input_data)"
   ]
  },
  {
   "cell_type": "code",
   "execution_count": 35,
   "id": "1e5a48fd",
   "metadata": {},
   "outputs": [
    {
     "ename": "TypeError",
     "evalue": "'tuple' object is not callable",
     "output_type": "error",
     "traceback": [
      "\u001b[1;31m---------------------------------------------------------------------------\u001b[0m",
      "\u001b[1;31mTypeError\u001b[0m                                 Traceback (most recent call last)",
      "Input \u001b[1;32mIn [35]\u001b[0m, in \u001b[0;36m<cell line: 1>\u001b[1;34m()\u001b[0m\n\u001b[1;32m----> 1\u001b[0m \u001b[43mx_train_prediction\u001b[49m\u001b[38;5;241;43m.\u001b[39;49m\u001b[43mshape\u001b[49m\u001b[43m(\u001b[49m\u001b[43m)\u001b[49m\n",
      "\u001b[1;31mTypeError\u001b[0m: 'tuple' object is not callable"
     ]
    }
   ],
   "source": [
    "x_train_prediction.shape()"
   ]
  },
  {
   "cell_type": "code",
   "execution_count": 36,
   "id": "c914d4e3",
   "metadata": {},
   "outputs": [
    {
     "data": {
      "text/plain": [
       "array([79.871605], dtype=float32)"
      ]
     },
     "execution_count": 36,
     "metadata": {},
     "output_type": "execute_result"
    }
   ],
   "source": [
    "pred"
   ]
  },
  {
   "cell_type": "code",
   "execution_count": null,
   "id": "302733b6",
   "metadata": {},
   "outputs": [],
   "source": []
  }
 ],
 "metadata": {
  "kernelspec": {
   "display_name": "Python 3 (ipykernel)",
   "language": "python",
   "name": "python3"
  },
  "language_info": {
   "codemirror_mode": {
    "name": "ipython",
    "version": 3
   },
   "file_extension": ".py",
   "mimetype": "text/x-python",
   "name": "python",
   "nbconvert_exporter": "python",
   "pygments_lexer": "ipython3",
   "version": "3.9.0"
  }
 },
 "nbformat": 4,
 "nbformat_minor": 5
}
